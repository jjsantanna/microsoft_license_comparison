{
 "cells": [
  {
   "cell_type": "code",
   "execution_count": 135,
   "id": "10489cc8",
   "metadata": {},
   "outputs": [],
   "source": [
    "import pandas as pd\n",
    "import re\n",
    "pd.set_option('display.max_colwidth', False)\n",
    "pd.set_option('display.max_columns', None)\n",
    "pd.set_option('display.max_rows', None)\n",
    "import warnings\n",
    "warnings.filterwarnings('ignore')\n",
    "\n",
    "import cfscrape"
   ]
  },
  {
   "cell_type": "code",
   "execution_count": 136,
   "id": "acdc3ef4",
   "metadata": {},
   "outputs": [],
   "source": [
    "def crawl_microsoft_licenses():\n",
    "    scraper = cfscrape.create_scraper()\n",
    "    url=\"https://docs.microsoft.com/en-us/azure/active-directory/enterprise-users/licensing-service-plan-reference\"\n",
    "    scraped_html=scraper.get(url).content\n",
    "    license_table = pd.read_html(scraped_html)[0]\n",
    "    return license_table"
   ]
  },
  {
   "cell_type": "code",
   "execution_count": 157,
   "id": "e4e173a3",
   "metadata": {},
   "outputs": [],
   "source": [
    "df = crawl_microsoft_licenses()"
   ]
  },
  {
   "cell_type": "code",
   "execution_count": 158,
   "id": "fb1cc311",
   "metadata": {},
   "outputs": [
    {
     "name": "stdout",
     "output_type": "stream",
     "text": [
      "Date: 2023-07-10\n",
      "416 distinct licenses in total!\n"
     ]
    }
   ],
   "source": [
    "from datetime import date\n",
    "print(\"Date:\",date.today())\n",
    "\n",
    "print(len(df), \"distinct licenses in total!\")\n"
   ]
  },
  {
   "cell_type": "markdown",
   "id": "0f13bed5",
   "metadata": {},
   "source": [
    "Converting service plans to lower"
   ]
  },
  {
   "cell_type": "code",
   "execution_count": 159,
   "id": "9c99e113",
   "metadata": {},
   "outputs": [],
   "source": [
    "df['Service plans included (friendly names)']=df['Service plans included (friendly names)'].str.lower()"
   ]
  },
  {
   "cell_type": "markdown",
   "id": "1c60461d",
   "metadata": {},
   "source": [
    "Extracting the list of 'Plans'"
   ]
  },
  {
   "cell_type": "code",
   "execution_count": 160,
   "id": "4c252285",
   "metadata": {},
   "outputs": [],
   "source": [
    "pattern = r\"\\s\\([a-f0-9-]+\\)\"\n",
    "df['Plans']= df['Service plans included (friendly names)'].apply(lambda x: re.sub(pattern, \",\", x)[:-1]).str.split(',')"
   ]
  },
  {
   "cell_type": "code",
   "execution_count": 161,
   "id": "a6d5cc5d",
   "metadata": {},
   "outputs": [
    {
     "data": {
      "text/html": [
       "<div>\n",
       "<style scoped>\n",
       "    .dataframe tbody tr th:only-of-type {\n",
       "        vertical-align: middle;\n",
       "    }\n",
       "\n",
       "    .dataframe tbody tr th {\n",
       "        vertical-align: top;\n",
       "    }\n",
       "\n",
       "    .dataframe thead th {\n",
       "        text-align: right;\n",
       "    }\n",
       "</style>\n",
       "<table border=\"1\" class=\"dataframe\">\n",
       "  <thead>\n",
       "    <tr style=\"text-align: right;\">\n",
       "      <th></th>\n",
       "      <th>Product name</th>\n",
       "      <th>String ID</th>\n",
       "      <th>GUID</th>\n",
       "      <th>Service plans included</th>\n",
       "      <th>Service plans included (friendly names)</th>\n",
       "      <th>Plans</th>\n",
       "    </tr>\n",
       "  </thead>\n",
       "  <tbody>\n",
       "    <tr>\n",
       "      <th>0</th>\n",
       "      <td>Advanced Communications</td>\n",
       "      <td>ADV_COMMS</td>\n",
       "      <td>e4654015-5daf-4a48-9b37-4f309dddd88b</td>\n",
       "      <td>TEAMS_ADVCOMMS (604ec28a-ae18-4bc6-91b0-11da94504ba9)</td>\n",
       "      <td>microsoft 365 advanced communications (604ec28a-ae18-4bc6-91b0-11da94504ba9)</td>\n",
       "      <td>[microsoft 365 advanced communications]</td>\n",
       "    </tr>\n",
       "    <tr>\n",
       "      <th>1</th>\n",
       "      <td>AI Builder Capacity add-on</td>\n",
       "      <td>CDSAICAPACITY</td>\n",
       "      <td>d2dea78b-507c-4e56-b400-39447f4738f8</td>\n",
       "      <td>CDSAICAPACITY (a7c70a41-5e02-4271-93e6-d9b4184d83f5)EXCHANGE_S_FOUNDATION (113feb6c-3fe4-4440-bddc-54d774bf0318)</td>\n",
       "      <td>ai builder capacity add-on (a7c70a41-5e02-4271-93e6-d9b4184d83f5)exchange foundation (113feb6c-3fe4-4440-bddc-54d774bf0318)</td>\n",
       "      <td>[ai builder capacity add-on, exchange foundation]</td>\n",
       "    </tr>\n",
       "    <tr>\n",
       "      <th>2</th>\n",
       "      <td>App Connect IW</td>\n",
       "      <td>SPZA_IW</td>\n",
       "      <td>8f0c5670-4e56-4892-b06d-91c085d7004f</td>\n",
       "      <td>SPZA (0bfc98ed-1dbc-4a97-b246-701754e48b17)EXCHANGE_S_FOUNDATION (113feb6c-3fe4-4440-bddc-54d774bf0318)</td>\n",
       "      <td>app connect (0bfc98ed-1dbc-4a97-b246-701754e48b17)exchange foundation (113feb6c-3fe4-4440-bddc-54d774bf0318)</td>\n",
       "      <td>[app connect, exchange foundation]</td>\n",
       "    </tr>\n",
       "    <tr>\n",
       "      <th>3</th>\n",
       "      <td>App governance add-on to Microsoft Defender for Cloud Apps</td>\n",
       "      <td>Microsoft_Cloud_App_Security_App_Governance_Add_On</td>\n",
       "      <td>9706eed9-966f-4f1b-94f6-bb2b4af99a5b</td>\n",
       "      <td>M365_AUDIT_PLATFORM (f6de4823-28fa-440b-b886-4783fa86ddba)MICROSOFT_APPLICATION_PROTECTION_AND_GOVERNANCE_A (5f3b1ded-75c0-4b31-8e6e-9b077eaadfd5)MICROSOFT_APPLICATION_PROTECTION_AND_GOVERNANCE_D (2e6ffd72-52d1-4541-8f6c-938f9a8d4cdc)</td>\n",
       "      <td>microsoft 365 audit platform (f6de4823-28fa-440b-b886-4783fa86ddba)microsoft application protection and governance (a) (5f3b1ded-75c0-4b31-8e6e-9b077eaadfd5)microsoft application protection and governance (d) (2e6ffd72-52d1-4541-8f6c-938f9a8d4cdc)</td>\n",
       "      <td>[microsoft 365 audit platform, microsoft application protection and governance, , microsoft application protection and governance, ]</td>\n",
       "    </tr>\n",
       "    <tr>\n",
       "      <th>4</th>\n",
       "      <td>Microsoft 365 Audio Conferencing</td>\n",
       "      <td>MCOMEETADV</td>\n",
       "      <td>0c266dff-15dd-4b49-8397-2bb16070ed52</td>\n",
       "      <td>MCOMEETADV (3e26ee1f-8a5f-4d52-aee2-b81ce45c8f40)</td>\n",
       "      <td>microsoft 365 audio conferencing (3e26ee1f-8a5f-4d52-aee2-b81ce45c8f40)</td>\n",
       "      <td>[microsoft 365 audio conferencing]</td>\n",
       "    </tr>\n",
       "  </tbody>\n",
       "</table>\n",
       "</div>"
      ],
      "text/plain": [
       "                                                 Product name  \\\n",
       "0  Advanced Communications                                      \n",
       "1  AI Builder Capacity add-on                                   \n",
       "2  App Connect IW                                               \n",
       "3  App governance add-on to Microsoft Defender for Cloud Apps   \n",
       "4  Microsoft 365 Audio Conferencing                             \n",
       "\n",
       "                                            String ID  \\\n",
       "0  ADV_COMMS                                            \n",
       "1  CDSAICAPACITY                                        \n",
       "2  SPZA_IW                                              \n",
       "3  Microsoft_Cloud_App_Security_App_Governance_Add_On   \n",
       "4  MCOMEETADV                                           \n",
       "\n",
       "                                   GUID  \\\n",
       "0  e4654015-5daf-4a48-9b37-4f309dddd88b   \n",
       "1  d2dea78b-507c-4e56-b400-39447f4738f8   \n",
       "2  8f0c5670-4e56-4892-b06d-91c085d7004f   \n",
       "3  9706eed9-966f-4f1b-94f6-bb2b4af99a5b   \n",
       "4  0c266dff-15dd-4b49-8397-2bb16070ed52   \n",
       "\n",
       "                                                                                                                                                                                                                       Service plans included  \\\n",
       "0  TEAMS_ADVCOMMS (604ec28a-ae18-4bc6-91b0-11da94504ba9)                                                                                                                                                                                        \n",
       "1  CDSAICAPACITY (a7c70a41-5e02-4271-93e6-d9b4184d83f5)EXCHANGE_S_FOUNDATION (113feb6c-3fe4-4440-bddc-54d774bf0318)                                                                                                                             \n",
       "2  SPZA (0bfc98ed-1dbc-4a97-b246-701754e48b17)EXCHANGE_S_FOUNDATION (113feb6c-3fe4-4440-bddc-54d774bf0318)                                                                                                                                      \n",
       "3  M365_AUDIT_PLATFORM (f6de4823-28fa-440b-b886-4783fa86ddba)MICROSOFT_APPLICATION_PROTECTION_AND_GOVERNANCE_A (5f3b1ded-75c0-4b31-8e6e-9b077eaadfd5)MICROSOFT_APPLICATION_PROTECTION_AND_GOVERNANCE_D (2e6ffd72-52d1-4541-8f6c-938f9a8d4cdc)   \n",
       "4  MCOMEETADV (3e26ee1f-8a5f-4d52-aee2-b81ce45c8f40)                                                                                                                                                                                            \n",
       "\n",
       "                                                                                                                                                                                                                   Service plans included (friendly names)  \\\n",
       "0  microsoft 365 advanced communications (604ec28a-ae18-4bc6-91b0-11da94504ba9)                                                                                                                                                                              \n",
       "1  ai builder capacity add-on (a7c70a41-5e02-4271-93e6-d9b4184d83f5)exchange foundation (113feb6c-3fe4-4440-bddc-54d774bf0318)                                                                                                                               \n",
       "2  app connect (0bfc98ed-1dbc-4a97-b246-701754e48b17)exchange foundation (113feb6c-3fe4-4440-bddc-54d774bf0318)                                                                                                                                              \n",
       "3  microsoft 365 audit platform (f6de4823-28fa-440b-b886-4783fa86ddba)microsoft application protection and governance (a) (5f3b1ded-75c0-4b31-8e6e-9b077eaadfd5)microsoft application protection and governance (d) (2e6ffd72-52d1-4541-8f6c-938f9a8d4cdc)   \n",
       "4  microsoft 365 audio conferencing (3e26ee1f-8a5f-4d52-aee2-b81ce45c8f40)                                                                                                                                                                                   \n",
       "\n",
       "                                                                                                                                  Plans  \n",
       "0  [microsoft 365 advanced communications]                                                                                               \n",
       "1  [ai builder capacity add-on, exchange foundation]                                                                                     \n",
       "2  [app connect, exchange foundation]                                                                                                    \n",
       "3  [microsoft 365 audit platform, microsoft application protection and governance, , microsoft application protection and governance, ]  \n",
       "4  [microsoft 365 audio conferencing]                                                                                                    "
      ]
     },
     "execution_count": 161,
     "metadata": {},
     "output_type": "execute_result"
    }
   ],
   "source": [
    "df.head()"
   ]
  },
  {
   "cell_type": "markdown",
   "id": "2ca39610",
   "metadata": {},
   "source": [
    "## Comparing Licenses"
   ]
  },
  {
   "cell_type": "code",
   "execution_count": 183,
   "id": "226ebbdd",
   "metadata": {},
   "outputs": [],
   "source": [
    "searchfor = ['Azure Active Directory']"
   ]
  },
  {
   "cell_type": "code",
   "execution_count": 184,
   "id": "34bb6c5a",
   "metadata": {},
   "outputs": [
    {
     "data": {
      "text/html": [
       "<style type=\"text/css\">\n",
       "#T_6aef8_row0_col1, #T_6aef8_row0_col2, #T_6aef8_row0_col3, #T_6aef8_row0_col4, #T_6aef8_row0_col6, #T_6aef8_row0_col7, #T_6aef8_row1_col2, #T_6aef8_row1_col5, #T_6aef8_row1_col7, #T_6aef8_row2_col2, #T_6aef8_row2_col3, #T_6aef8_row2_col5, #T_6aef8_row3_col5, #T_6aef8_row3_col7 {\n",
       "  background-color: red;\n",
       "}\n",
       "</style>\n",
       "<table id=\"T_6aef8\">\n",
       "  <thead>\n",
       "    <tr>\n",
       "      <th class=\"blank level0\" >&nbsp;</th>\n",
       "      <th id=\"T_6aef8_level0_col0\" class=\"col_heading level0 col0\" >Product name</th>\n",
       "      <th id=\"T_6aef8_level0_col1\" class=\"col_heading level0 col1\" >azure active directory premium p1</th>\n",
       "      <th id=\"T_6aef8_level0_col2\" class=\"col_heading level0 col2\" >azure active directory premium p2</th>\n",
       "      <th id=\"T_6aef8_level0_col3\" class=\"col_heading level0 col3\" >cloud app security discovery</th>\n",
       "      <th id=\"T_6aef8_level0_col4\" class=\"col_heading level0 col4\" >exchange foundation</th>\n",
       "      <th id=\"T_6aef8_level0_col5\" class=\"col_heading level0 col5\" >microsoft azure active directory basic</th>\n",
       "      <th id=\"T_6aef8_level0_col6\" class=\"col_heading level0 col6\" >microsoft azure multi-factor authentication</th>\n",
       "      <th id=\"T_6aef8_level0_col7\" class=\"col_heading level0 col7\" >microsoft defender for cloud apps discovery</th>\n",
       "    </tr>\n",
       "  </thead>\n",
       "  <tbody>\n",
       "    <tr>\n",
       "      <th id=\"T_6aef8_level0_row0\" class=\"row_heading level0 row0\" >5</th>\n",
       "      <td id=\"T_6aef8_row0_col0\" class=\"data row0 col0\" >Azure Active Directory Basic</td>\n",
       "      <td id=\"T_6aef8_row0_col1\" class=\"data row0 col1\" >0</td>\n",
       "      <td id=\"T_6aef8_row0_col2\" class=\"data row0 col2\" >0</td>\n",
       "      <td id=\"T_6aef8_row0_col3\" class=\"data row0 col3\" >0</td>\n",
       "      <td id=\"T_6aef8_row0_col4\" class=\"data row0 col4\" >0</td>\n",
       "      <td id=\"T_6aef8_row0_col5\" class=\"data row0 col5\" >1</td>\n",
       "      <td id=\"T_6aef8_row0_col6\" class=\"data row0 col6\" >0</td>\n",
       "      <td id=\"T_6aef8_row0_col7\" class=\"data row0 col7\" >0</td>\n",
       "    </tr>\n",
       "    <tr>\n",
       "      <th id=\"T_6aef8_level0_row1\" class=\"row_heading level0 row1\" >6</th>\n",
       "      <td id=\"T_6aef8_row1_col0\" class=\"data row1 col0\" >Azure Active Directory Premium P1</td>\n",
       "      <td id=\"T_6aef8_row1_col1\" class=\"data row1 col1\" >1</td>\n",
       "      <td id=\"T_6aef8_row1_col2\" class=\"data row1 col2\" >0</td>\n",
       "      <td id=\"T_6aef8_row1_col3\" class=\"data row1 col3\" >1</td>\n",
       "      <td id=\"T_6aef8_row1_col4\" class=\"data row1 col4\" >1</td>\n",
       "      <td id=\"T_6aef8_row1_col5\" class=\"data row1 col5\" >0</td>\n",
       "      <td id=\"T_6aef8_row1_col6\" class=\"data row1 col6\" >1</td>\n",
       "      <td id=\"T_6aef8_row1_col7\" class=\"data row1 col7\" >0</td>\n",
       "    </tr>\n",
       "    <tr>\n",
       "      <th id=\"T_6aef8_level0_row2\" class=\"row_heading level0 row2\" >7</th>\n",
       "      <td id=\"T_6aef8_row2_col0\" class=\"data row2 col0\" >Azure Active Directory Premium P1 for faculty</td>\n",
       "      <td id=\"T_6aef8_row2_col1\" class=\"data row2 col1\" >1</td>\n",
       "      <td id=\"T_6aef8_row2_col2\" class=\"data row2 col2\" >0</td>\n",
       "      <td id=\"T_6aef8_row2_col3\" class=\"data row2 col3\" >0</td>\n",
       "      <td id=\"T_6aef8_row2_col4\" class=\"data row2 col4\" >1</td>\n",
       "      <td id=\"T_6aef8_row2_col5\" class=\"data row2 col5\" >0</td>\n",
       "      <td id=\"T_6aef8_row2_col6\" class=\"data row2 col6\" >1</td>\n",
       "      <td id=\"T_6aef8_row2_col7\" class=\"data row2 col7\" >1</td>\n",
       "    </tr>\n",
       "    <tr>\n",
       "      <th id=\"T_6aef8_level0_row3\" class=\"row_heading level0 row3\" >8</th>\n",
       "      <td id=\"T_6aef8_row3_col0\" class=\"data row3 col0\" >Azure Active Directory Premium P2</td>\n",
       "      <td id=\"T_6aef8_row3_col1\" class=\"data row3 col1\" >1</td>\n",
       "      <td id=\"T_6aef8_row3_col2\" class=\"data row3 col2\" >1</td>\n",
       "      <td id=\"T_6aef8_row3_col3\" class=\"data row3 col3\" >1</td>\n",
       "      <td id=\"T_6aef8_row3_col4\" class=\"data row3 col4\" >1</td>\n",
       "      <td id=\"T_6aef8_row3_col5\" class=\"data row3 col5\" >0</td>\n",
       "      <td id=\"T_6aef8_row3_col6\" class=\"data row3 col6\" >1</td>\n",
       "      <td id=\"T_6aef8_row3_col7\" class=\"data row3 col7\" >0</td>\n",
       "    </tr>\n",
       "  </tbody>\n",
       "</table>\n"
      ],
      "text/plain": [
       "<pandas.io.formats.style.Styler at 0x127486eb0>"
      ]
     },
     "execution_count": 184,
     "metadata": {},
     "output_type": "execute_result"
    }
   ],
   "source": [
    "df_comparison = df[df['Product name'].str.contains(('|'.join(searchfor)))][['Product name', 'Plans']] \n",
    "\n",
    "# Collect unique plans\n",
    "unique_plans = set()\n",
    "for plans in df_comparison['Plans']:\n",
    "    unique_plans.update(plans)\n",
    "\n",
    "# Create columns for unique plans\n",
    "for plan in unique_plans:\n",
    "    df_comparison[plan] = df_comparison.apply(lambda row: plan.lower() in [p.lower() for p in row['Plans']], axis=1)\n",
    "\n",
    "# Drop the 'Plans' column\n",
    "df_comparison = df_comparison.drop('Plans', axis=1)\n",
    "\n",
    "# Sorting by Column name\n",
    "df_comparison = df_comparison.reindex(sorted(df_comparison.columns), axis=1)\n",
    "\n",
    "# Coloring output\n",
    "styled_df = df_comparison.style.applymap(lambda x: 'background-color: red' if not x else '')\n",
    "styled_df\n"
   ]
  }
 ],
 "metadata": {
  "kernelspec": {
   "display_name": "Python 3",
   "language": "python",
   "name": "python3"
  },
  "language_info": {
   "codemirror_mode": {
    "name": "ipython",
    "version": 3
   },
   "file_extension": ".py",
   "mimetype": "text/x-python",
   "name": "python",
   "nbconvert_exporter": "python",
   "pygments_lexer": "ipython3",
   "version": "3.9.16"
  }
 },
 "nbformat": 4,
 "nbformat_minor": 5
}
